{
 "cells": [
  {
   "cell_type": "markdown",
   "id": "80ed0f9f",
   "metadata": {},
   "source": [
    "This script uses [Mantid](https://www.mantidproject.org/) in order to process data taken on the [OFFSPEC](https://www.isis.stfc.ac.uk/Pages/offspec.aspx) instrument at the [ISIS Neutron and Muon Source](https://www.isis.stfc.ac.uk/) (UK). \n",
    "\n",
    "This data collection was originally performed for [*Determination of the Thin-Film Structure of Zwitterion-Doped Poly(3,4-ethylenedioxythiophene):Poly(styrenesulfonate): A Neutron Reflectivity Study*](https://pubs.acs.org/doi/10.1021/acsami.9b02700), and is provided to test techniques such as data validation within IDAaaS.\n",
    "\n",
    "For more information on what this script is doing, see the [relevant Mantid documentation](https://docs.mantidproject.org/nightly/techniques/ISIS_Reflectometry.html)."
   ]
  },
  {
   "cell_type": "code",
   "execution_count": 1,
   "id": "6ab344e3",
   "metadata": {},
   "outputs": [],
   "source": [
    "# on IDAaaS, to run mantid within Jupyter, open Jupyter from the start menu and choose one of the Mantid kernels\n",
    "import sys\n",
    "import os\n",
    "from mantid.simpleapi import * "
   ]
  },
  {
   "cell_type": "code",
   "execution_count": 2,
   "id": "da8a44a1",
   "metadata": {},
   "outputs": [
    {
     "data": {
      "text/plain": [
       "Workspace2D\n",
       "Title: 25mmol PEDOT gabriel  th=2.5\n",
       "Histograms: 772\n",
       "Bins: 5000\n",
       "Histogram\n",
       "X axis: Time-of-flight / microsecond\n",
       "Y axis: Counts\n",
       "Distribution: False\n",
       "Instrument: OFFSPEC (1900-Feb-01 to 2019-Dec-31)Instrument from: /opt/Mantid/instrument/OFFSPEC_Definition.xml\n",
       "\n",
       "Parameters from: /opt/Mantid/instrument/OFFSPEC_Parameters.xml\n",
       "Run start: 2018-May-11 07:49:40\n",
       "Run end:  2018-May-11 09:20:27"
      ]
     },
     "execution_count": 2,
     "metadata": {},
     "output_type": "execute_result"
    }
   ],
   "source": [
    "# grabs the location of the data files folder, assuming you haven't moved anything within the repository\n",
    "datapath = os.path.join(os.getcwd(), \"data_files/\")\n",
    "\n",
    "# loads in the raw nexus data files\n",
    "LoadISISNexus(Filename=datapath+'OFFSPEC00046999.nxs', OutputWorkspace='46999')\n",
    "LoadNexus(Filename=datapath+'OFFSPEC00046992.nxs', OutputWorkspace='TOF_46992')\n",
    "LoadNexus(Filename=datapath+'OFFSPEC00046993.nxs', OutputWorkspace='TOF_46993')\n",
    "LoadNexus(Filename=datapath+'OFFSPEC00046994.nxs', OutputWorkspace='TOF_46994')"
   ]
  },
  {
   "cell_type": "code",
   "execution_count": 3,
   "id": "1a6527f8",
   "metadata": {},
   "outputs": [
    {
     "data": {
      "text/plain": [
       "Workspace2D\n",
       "Title: Direct Beam 0.5deg 30/30\n",
       "Histograms: 1\n",
       "Bins: 58\n",
       "Histogram\n",
       "X axis: Time-of-flight / microsecond\n",
       "Y axis: Counts\n",
       "Distribution: False\n",
       "Instrument: OFFSPEC (1900-Feb-01 to 2019-Dec-31)Instrument from: /opt/Mantid/instrument/OFFSPEC_Definition.xml\n",
       "\n",
       "Parameters from: /opt/Mantid/instrument/OFFSPEC_Parameters.xml\n",
       "Run start: 2018-May-11 12:38:11\n",
       "Run end:  2018-May-11 13:00:54"
      ]
     },
     "execution_count": 3,
     "metadata": {},
     "output_type": "execute_result"
    }
   ],
   "source": [
    "# for details on this, see docs link above\n",
    "# essentially, sets up the workspace for use of the reduction algorithm\n",
    "\n",
    "# Child algorithms of ReflectometryReductionOneAuto\n",
    "SpecularReflectionPositionCorrect(InputWorkspace='TOF_46992', TwoTheta=1, DetectorComponentName='WLSFDetector', OutputWorkspace='__TMP000001B29A437BE0')\n",
    "\n",
    "## Child algorithms of ReflectometryReductionOne\n",
    "ConvertUnits(InputWorkspace='__TMP000001B29A437BE0', OutputWorkspace='__TMP000001B29A43C050', Target='Wavelength', AlignBins=True)\n",
    "CropWorkspace(InputWorkspace='__TMP000001B29A437BE0', OutputWorkspace='__TMP000001B29A43C4E0', StartWorkspaceIndex=1, EndWorkspaceIndex=1)\n",
    "ConvertUnits(InputWorkspace='__TMP000001B29A43C4E0', OutputWorkspace='__TMP000001B29A43D720', Target='Wavelength', AlignBins=True)\n",
    "CalculateFlatBackground(InputWorkspace='__TMP000001B29A43D720', OutputWorkspace='__TMP000001B29A435BF0', StartX=15, EndX=20)\n",
    "Integration(InputWorkspace='__TMP000001B29A435BF0', OutputWorkspace='__TMP000001B21108ACD0', RangeLower=2, RangeUpper=14)\n",
    "Divide(LHSWorkspace='__TMP000001B29A43C050', RHSWorkspace='__TMP000001B21108ACD0', OutputWorkspace='__TMP000001B211085F40')\n",
    "\n",
    "### Child algorithms of CreateTransmissionWorkspace\n",
    "GroupDetectors(InputWorkspace='46999', OutputWorkspace='__TMP000001B211084870', GroupingPattern='389-419')\n",
    "ConvertUnits(InputWorkspace='__TMP000001B211084870', OutputWorkspace='__TMP000001B21108ACD0', Target='Wavelength', AlignBins=True)\n",
    "CropWorkspace(InputWorkspace='46999', OutputWorkspace='__TMP000001B2110843E0', StartWorkspaceIndex=1, EndWorkspaceIndex=1)\n",
    "ConvertUnits(InputWorkspace='__TMP000001B2110843E0', OutputWorkspace='__TMP000001B2110831A0', Target='Wavelength', AlignBins=True)\n",
    "CalculateFlatBackground(InputWorkspace='__TMP000001B2110831A0', OutputWorkspace='__TMP000001B211084870', StartX=15, EndX=20)\n",
    "Integration(InputWorkspace='__TMP000001B211084870', OutputWorkspace='__TMP000001B21108DF00', RangeLower=2, RangeUpper=14)\n",
    "Divide(LHSWorkspace='__TMP000001B21108ACD0', RHSWorkspace='__TMP000001B21108DF00', OutputWorkspace='__TMP000001B2110831A0')\n",
    "CropWorkspace(InputWorkspace='__TMP000001B2110831A0', OutputWorkspace='__TMP000001B21108ACD0', XMin=2, XMax=14)\n",
    "### End of child algorithms of CreateTransmissionWorkspace\n",
    "\n",
    "RebinToWorkspace(WorkspaceToRebin='__TMP000001B21108ACD0', WorkspaceToMatch='__TMP000001B211085F40', OutputWorkspace='__TMP000001B2110831A0')\n",
    "Divide(LHSWorkspace='__TMP000001B211085F40', RHSWorkspace='__TMP000001B2110831A0', OutputWorkspace='__TMP000001B211084870')\n",
    "CropWorkspace(InputWorkspace='__TMP000001B21108ACD0', OutputWorkspace='__TMP000001B2110831A0', XMin=2.2706240905191248, XMax=12.522721109543975)\n",
    "ConvertUnits(InputWorkspace='__TMP000001B2110831A0', OutputWorkspace='IvsQ_46992', Target='MomentumTransfer')\n",
    "## End of child algorithms of ReflectometryReductionOne\n",
    "\n",
    "Rebin(InputWorkspace='__TMP000001B2110843E0', OutputWorkspace='IvsQ_binned_46992', Params='0.00879554,-0.03,0.0485021')\n",
    "# End of child algorithms of ReflectometryReductionOneAuto"
   ]
  },
  {
   "cell_type": "code",
   "execution_count": 4,
   "id": "2e78d00f",
   "metadata": {},
   "outputs": [
    {
     "data": {
      "text/plain": [
       "Stitch1DMany_returns(OutputWorkspace=Workspace2D\n",
       "Title: 25mmol PEDOT gabriel  th=0.5\n",
       "Histograms: 1\n",
       "Bins: 117\n",
       "Histogram\n",
       "X axis: q / Angstrom^-1\n",
       "Y axis: Reflectivity\n",
       "Distribution: True\n",
       "Instrument: OFFSPEC (1900-Feb-01 to 2019-Dec-31)Instrument from: /opt/Mantid/instrument/OFFSPEC_Definition.xml\n",
       "\n",
       "Parameters from: /opt/Mantid/instrument/OFFSPEC_Parameters.xml\n",
       "Run start: 2018-May-11 06:43:16\n",
       "Run end:  2018-May-11 06:58:25\n",
       ", OutScaleFactors=array([0.118746  , 0.04942797]))"
      ]
     },
     "execution_count": 4,
     "metadata": {},
     "output_type": "execute_result"
    }
   ],
   "source": [
    "# runs the reduction algorithm (see mantid docs link above) to reduce the data\n",
    "ReflectometryReductionOneAuto(InputWorkspace='TOF_46992', SummationType='SumInQ', ReductionType='NonFlatSample', ProcessingInstructions='399-410', ThetaIn=0.5, FirstTransmissionRun='46999', MomentumTransferMin=0.0085, MomentumTransferStep=0.029999999999999999, MomentumTransferMax=0.055, ScaleFactor=1, OutputWorkspaceBinned='IvsQ_binned_46992', OutputWorkspace='IvsQ_46992', OutputWorkspaceWavelength='IvsLam_46992')\n",
    "ReflectometryReductionOneAuto(InputWorkspace='TOF_46993', SummationType='SumInQ', ReductionType='NonFlatSample', ProcessingInstructions='390-420', ThetaIn=1.5, FirstTransmissionRun='46999', MomentumTransferMin=0.024461616931990889, MomentumTransferStep=0.029999999999999999, MomentumTransferMax=0.15799278359086491, ScaleFactor=1, OutputWorkspaceBinned='IvsQ_binned_46993', OutputWorkspace='IvsQ_46993', OutputWorkspaceWavelength='IvsLam_46993')\n",
    "ReflectometryReductionOneAuto(InputWorkspace='TOF_46994', SummationType='SumInQ', ReductionType='NonFlatSample', ProcessingInstructions='390-420', ThetaIn=2.5, FirstTransmissionRun='46999', MomentumTransferMin=0.040126133459340192, MomentumTransferStep=0.029999999999999999, MomentumTransferMax=0.26776949075729722, ScaleFactor=1, OutputWorkspaceBinned='IvsQ_binned_46994', OutputWorkspace='IvsQ_46994', OutputWorkspaceWavelength='IvsLam_46994')\n",
    "Stitch1DMany(InputWorkspaces='IvsQ_46992,IvsQ_46993,IvsQ_46994', OutputWorkspace='IvsQ_46992_46993_46994', Params='-0.03', OutScaleFactors='0.125265,0.0526235')"
   ]
  },
  {
   "cell_type": "code",
   "execution_count": null,
   "id": "4dcc3d0d",
   "metadata": {},
   "outputs": [],
   "source": [
    "# install pandas for output presentation. once this pip install command has run the kernel needs to be restarted\n",
    "!pip install pandas"
   ]
  },
  {
   "cell_type": "code",
   "execution_count": 5,
   "id": "29f38796",
   "metadata": {},
   "outputs": [],
   "source": [
    "# imports the original data for comparison, and converts it to a workspace\n",
    "from pandas import read_csv\n",
    "\n",
    "orig_array = read_csv(datapath+'Runs_46992_46993_46994_polymer_on_Si.csv', sep=',',header=None).to_numpy()\n",
    "\n",
    "orig_ws = CreateWorkspace(DataX=orig_array[:,0], DataY=orig_array[:,1], DataE=orig_array[:,2], NSpec=1, UnitX=\"Wavelength / Angstrom\")"
   ]
  },
  {
   "cell_type": "code",
   "execution_count": 6,
   "id": "fa9fcdd0",
   "metadata": {},
   "outputs": [
    {
     "data": {
      "text/plain": [
       "<matplotlib.legend.Legend at 0x7fb035ffb6d8>"
      ]
     },
     "execution_count": 6,
     "metadata": {},
     "output_type": "execute_result"
    },
    {
     "data": {
      "image/png": "[encoded data removed]",
      "text/plain": [
       "<Figure size 432x288 with 1 Axes>"
      ]
     },
     "metadata": {
      "needs_background": "light"
     },
     "output_type": "display_data"
    }
   ],
   "source": [
    "# plots the data for comparison\n",
    "import matplotlib.pyplot as plt\n",
    "%matplotlib inline\n",
    "from mantid.api import AnalysisDataService as ADS\n",
    "\n",
    "script_data = ADS.retrieve('IvsQ_46992_46993_46994')\n",
    "orig_data = ADS.retrieve('orig_ws')\n",
    "\n",
    "fig, axes = plt.subplots(edgecolor='#ffffff', num='GFP LOQ data', subplot_kw={'projection': 'mantid'})\n",
    "axes.errorbar(script_data, capsize=2.0, capthick=0.5, color='#1f77b4', elinewidth=0.5, label='script_data', linewidth=0.5, marker='.', markersize=3.0)\n",
    "axes.errorbar(orig_data, capsize=2.0, capthick=0.5, color='k', elinewidth=0.5, label='original_data', linewidth=0.5, marker='.', markersize=3.0)\n",
    "axes.set_title('GFP LOQ data')\n",
    "axes.set_xlabel('q ($\\AA^{-1}$)')\n",
    "axes.set_ylabel('I(q) / $cm^{-1}$')\n",
    "axes.set_xlim([0.008, 0.05])\n",
    "axes.set_ylim([0.001, 1.0])\n",
    "axes.set_xscale('log')\n",
    "axes.set_yscale('log')\n",
    "axes.grid()\n",
    "axes.grid(b=True, which='minor', linestyle='--')\n",
    "axes.legend()"
   ]
  },
  {
   "cell_type": "code",
   "execution_count": null,
   "id": "82e03704",
   "metadata": {},
   "outputs": [],
   "source": []
  }
 ],
 "metadata": {
  "kernelspec": {
   "display_name": "Python 3",
   "language": "python",
   "name": "python3"
  },
  "language_info": {
   "codemirror_mode": {
    "name": "ipython",
    "version": 3
   },
   "file_extension": ".py",
   "mimetype": "text/x-python",
   "name": "python",
   "nbconvert_exporter": "python",
   "pygments_lexer": "ipython3",
   "version": "3.6.8"
  }
 },
 "nbformat": 4,
 "nbformat_minor": 5
}
